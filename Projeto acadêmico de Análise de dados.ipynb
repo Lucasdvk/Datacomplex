{
 "cells": [
  {
   "cell_type": "code",
   "execution_count": 86,
   "id": "ec4b60f3-4240-438f-9aa2-4710e003f702",
   "metadata": {},
   "outputs": [
    {
     "name": "stdout",
     "output_type": "stream",
     "text": [
      "The sql extension is already loaded. To reload it, use:\n",
      "  %reload_ext sql\n"
     ]
    }
   ],
   "source": [
    "import pandas as pd\n",
    "import numpy as np\n",
    "import matplotlib.pyplot as plt\n",
    "import seaborn as sns\n",
    "import sqlite3\n",
    "\n",
    "%load_ext sql\n",
    "%matplotlib inline"
   ]
  },
  {
   "cell_type": "code",
   "execution_count": null,
   "id": "4dd139bf-8652-46c9-9269-c77dcb0d7183",
   "metadata": {},
   "outputs": [],
   "source": [
    "pip install jupyterlab-sql"
   ]
  },
  {
   "cell_type": "markdown",
   "id": "20e4f12e-42cb-4fd1-8653-74859eb597e0",
   "metadata": {},
   "source": [
    "#### Informações do Dataframe\n",
    "\n",
    "- id: Identificador único para cada registro.\n",
    "- default: Indica se o cliente possui algum histórico de default (inadimplência).\n",
    "- idade: Idade do cliente.\n",
    "- sexo: Sexo do cliente (M para masculino, F para feminino).\n",
    "- dependentes: Número de dependentes do cliente.\n",
    "- escolaridade: Nível de escolaridade do cliente.\n",
    "- estado_civil: Estado civil do cliente.\n",
    "- salario_anual: Salário anual do cliente.\n",
    "- tipo_cartao: Tipo de cartão de crédito do cliente.\n",
    "- meses_de_relacionamento: Número de meses de relacionamento com a instituição financeira.\n",
    "- qtd_produtos: Quantidade de produtos financeiros do cliente.\n",
    "- iteracoes_12m: Número de interações (contatos) com a instituição financeira nos últimos 12 meses.\n",
    "- meses_inativo_12m: Número de meses de inatividade nos últimos 12 meses.\n",
    "- limite_credito: Limite de crédito do cliente.\n",
    "- valor_transacoes_12m: Valor total das transações nos últimos 12 meses.\n",
    "- qtd_transacoes_12m: Quantidade total de transações nos últimos 12 meses."
   ]
  },
  {
   "cell_type": "markdown",
   "id": "8718dc0a-9681-43a2-90a5-b79697cb6b10",
   "metadata": {},
   "source": [
    "#### Informações da pesquisa\n",
    "\n",
    "- Análise de dados com Pandas\n",
    "- Visualização de dados com Matplotlib e Seaborn\n",
    "- Consulta e exploração de dados utilizando SQL\n",
    "- Story-telling e Insights passo a passo sobre a pesquisa"
   ]
  },
  {
   "cell_type": "code",
   "execution_count": 87,
   "id": "0dcdcc6f-3292-43da-8af4-d375e2510de6",
   "metadata": {
    "scrolled": true
   },
   "outputs": [
    {
     "data": {
      "text/html": [
       "<div>\n",
       "<style scoped>\n",
       "    .dataframe tbody tr th:only-of-type {\n",
       "        vertical-align: middle;\n",
       "    }\n",
       "\n",
       "    .dataframe tbody tr th {\n",
       "        vertical-align: top;\n",
       "    }\n",
       "\n",
       "    .dataframe thead th {\n",
       "        text-align: right;\n",
       "    }\n",
       "</style>\n",
       "<table border=\"1\" class=\"dataframe\">\n",
       "  <thead>\n",
       "    <tr style=\"text-align: right;\">\n",
       "      <th></th>\n",
       "      <th>id</th>\n",
       "      <th>default</th>\n",
       "      <th>idade</th>\n",
       "      <th>sexo</th>\n",
       "      <th>dependentes</th>\n",
       "      <th>escolaridade</th>\n",
       "      <th>estado_civil</th>\n",
       "      <th>salario_anual</th>\n",
       "      <th>tipo_cartao</th>\n",
       "      <th>meses_de_relacionamento</th>\n",
       "      <th>qtd_produtos</th>\n",
       "      <th>iteracoes_12m</th>\n",
       "      <th>meses_inativo_12m</th>\n",
       "      <th>limite_credito</th>\n",
       "      <th>valor_transacoes_12m</th>\n",
       "      <th>qtd_transacoes_12m</th>\n",
       "    </tr>\n",
       "  </thead>\n",
       "  <tbody>\n",
       "    <tr>\n",
       "      <th>0</th>\n",
       "      <td>768805383</td>\n",
       "      <td>0</td>\n",
       "      <td>45</td>\n",
       "      <td>M</td>\n",
       "      <td>3</td>\n",
       "      <td>ensino medio</td>\n",
       "      <td>casado</td>\n",
       "      <td>$60K - $80K</td>\n",
       "      <td>blue</td>\n",
       "      <td>39</td>\n",
       "      <td>5</td>\n",
       "      <td>3</td>\n",
       "      <td>1</td>\n",
       "      <td>12.691,51</td>\n",
       "      <td>1.144,90</td>\n",
       "      <td>42</td>\n",
       "    </tr>\n",
       "    <tr>\n",
       "      <th>1</th>\n",
       "      <td>818770008</td>\n",
       "      <td>0</td>\n",
       "      <td>49</td>\n",
       "      <td>F</td>\n",
       "      <td>5</td>\n",
       "      <td>mestrado</td>\n",
       "      <td>solteiro</td>\n",
       "      <td>menos que $40K</td>\n",
       "      <td>blue</td>\n",
       "      <td>44</td>\n",
       "      <td>6</td>\n",
       "      <td>2</td>\n",
       "      <td>1</td>\n",
       "      <td>8.256,96</td>\n",
       "      <td>1.291,45</td>\n",
       "      <td>33</td>\n",
       "    </tr>\n",
       "    <tr>\n",
       "      <th>2</th>\n",
       "      <td>713982108</td>\n",
       "      <td>0</td>\n",
       "      <td>51</td>\n",
       "      <td>M</td>\n",
       "      <td>3</td>\n",
       "      <td>mestrado</td>\n",
       "      <td>casado</td>\n",
       "      <td>$80K - $120K</td>\n",
       "      <td>blue</td>\n",
       "      <td>36</td>\n",
       "      <td>4</td>\n",
       "      <td>0</td>\n",
       "      <td>1</td>\n",
       "      <td>3.418,56</td>\n",
       "      <td>1.887,72</td>\n",
       "      <td>20</td>\n",
       "    </tr>\n",
       "    <tr>\n",
       "      <th>3</th>\n",
       "      <td>769911858</td>\n",
       "      <td>0</td>\n",
       "      <td>40</td>\n",
       "      <td>F</td>\n",
       "      <td>4</td>\n",
       "      <td>ensino medio</td>\n",
       "      <td>na</td>\n",
       "      <td>menos que $40K</td>\n",
       "      <td>blue</td>\n",
       "      <td>34</td>\n",
       "      <td>3</td>\n",
       "      <td>1</td>\n",
       "      <td>4</td>\n",
       "      <td>3.313,03</td>\n",
       "      <td>1.171,56</td>\n",
       "      <td>20</td>\n",
       "    </tr>\n",
       "    <tr>\n",
       "      <th>4</th>\n",
       "      <td>709106358</td>\n",
       "      <td>0</td>\n",
       "      <td>40</td>\n",
       "      <td>M</td>\n",
       "      <td>3</td>\n",
       "      <td>sem educacao formal</td>\n",
       "      <td>casado</td>\n",
       "      <td>$60K - $80K</td>\n",
       "      <td>blue</td>\n",
       "      <td>21</td>\n",
       "      <td>5</td>\n",
       "      <td>0</td>\n",
       "      <td>1</td>\n",
       "      <td>4.716,22</td>\n",
       "      <td>816,08</td>\n",
       "      <td>28</td>\n",
       "    </tr>\n",
       "    <tr>\n",
       "      <th>...</th>\n",
       "      <td>...</td>\n",
       "      <td>...</td>\n",
       "      <td>...</td>\n",
       "      <td>...</td>\n",
       "      <td>...</td>\n",
       "      <td>...</td>\n",
       "      <td>...</td>\n",
       "      <td>...</td>\n",
       "      <td>...</td>\n",
       "      <td>...</td>\n",
       "      <td>...</td>\n",
       "      <td>...</td>\n",
       "      <td>...</td>\n",
       "      <td>...</td>\n",
       "      <td>...</td>\n",
       "      <td>...</td>\n",
       "    </tr>\n",
       "    <tr>\n",
       "      <th>10122</th>\n",
       "      <td>772366833</td>\n",
       "      <td>0</td>\n",
       "      <td>50</td>\n",
       "      <td>M</td>\n",
       "      <td>2</td>\n",
       "      <td>mestrado</td>\n",
       "      <td>solteiro</td>\n",
       "      <td>$40K - $60K</td>\n",
       "      <td>blue</td>\n",
       "      <td>40</td>\n",
       "      <td>3</td>\n",
       "      <td>3</td>\n",
       "      <td>2</td>\n",
       "      <td>4.003,91</td>\n",
       "      <td>15.476,26</td>\n",
       "      <td>117</td>\n",
       "    </tr>\n",
       "    <tr>\n",
       "      <th>10123</th>\n",
       "      <td>710638233</td>\n",
       "      <td>1</td>\n",
       "      <td>41</td>\n",
       "      <td>M</td>\n",
       "      <td>2</td>\n",
       "      <td>na</td>\n",
       "      <td>divorciado</td>\n",
       "      <td>$40K - $60K</td>\n",
       "      <td>blue</td>\n",
       "      <td>25</td>\n",
       "      <td>4</td>\n",
       "      <td>3</td>\n",
       "      <td>2</td>\n",
       "      <td>4.277,04</td>\n",
       "      <td>8.764,88</td>\n",
       "      <td>69</td>\n",
       "    </tr>\n",
       "    <tr>\n",
       "      <th>10124</th>\n",
       "      <td>716506083</td>\n",
       "      <td>1</td>\n",
       "      <td>44</td>\n",
       "      <td>F</td>\n",
       "      <td>1</td>\n",
       "      <td>ensino medio</td>\n",
       "      <td>casado</td>\n",
       "      <td>menos que $40K</td>\n",
       "      <td>blue</td>\n",
       "      <td>36</td>\n",
       "      <td>5</td>\n",
       "      <td>4</td>\n",
       "      <td>3</td>\n",
       "      <td>5.409,16</td>\n",
       "      <td>10.291,78</td>\n",
       "      <td>60</td>\n",
       "    </tr>\n",
       "    <tr>\n",
       "      <th>10125</th>\n",
       "      <td>717406983</td>\n",
       "      <td>1</td>\n",
       "      <td>30</td>\n",
       "      <td>M</td>\n",
       "      <td>2</td>\n",
       "      <td>mestrado</td>\n",
       "      <td>na</td>\n",
       "      <td>$40K - $60K</td>\n",
       "      <td>blue</td>\n",
       "      <td>36</td>\n",
       "      <td>4</td>\n",
       "      <td>3</td>\n",
       "      <td>3</td>\n",
       "      <td>5.281,84</td>\n",
       "      <td>8.395,62</td>\n",
       "      <td>62</td>\n",
       "    </tr>\n",
       "    <tr>\n",
       "      <th>10126</th>\n",
       "      <td>714337233</td>\n",
       "      <td>1</td>\n",
       "      <td>43</td>\n",
       "      <td>F</td>\n",
       "      <td>2</td>\n",
       "      <td>mestrado</td>\n",
       "      <td>casado</td>\n",
       "      <td>menos que $40K</td>\n",
       "      <td>silver</td>\n",
       "      <td>25</td>\n",
       "      <td>6</td>\n",
       "      <td>4</td>\n",
       "      <td>2</td>\n",
       "      <td>10.388,80</td>\n",
       "      <td>10.294,96</td>\n",
       "      <td>61</td>\n",
       "    </tr>\n",
       "  </tbody>\n",
       "</table>\n",
       "<p>10127 rows × 16 columns</p>\n",
       "</div>"
      ],
      "text/plain": [
       "              id  default  idade sexo  dependentes         escolaridade  \\\n",
       "0      768805383        0     45    M            3         ensino medio   \n",
       "1      818770008        0     49    F            5             mestrado   \n",
       "2      713982108        0     51    M            3             mestrado   \n",
       "3      769911858        0     40    F            4         ensino medio   \n",
       "4      709106358        0     40    M            3  sem educacao formal   \n",
       "...          ...      ...    ...  ...          ...                  ...   \n",
       "10122  772366833        0     50    M            2             mestrado   \n",
       "10123  710638233        1     41    M            2                   na   \n",
       "10124  716506083        1     44    F            1         ensino medio   \n",
       "10125  717406983        1     30    M            2             mestrado   \n",
       "10126  714337233        1     43    F            2             mestrado   \n",
       "\n",
       "      estado_civil   salario_anual tipo_cartao  meses_de_relacionamento  \\\n",
       "0           casado     $60K - $80K        blue                       39   \n",
       "1         solteiro  menos que $40K        blue                       44   \n",
       "2           casado    $80K - $120K        blue                       36   \n",
       "3               na  menos que $40K        blue                       34   \n",
       "4           casado     $60K - $80K        blue                       21   \n",
       "...            ...             ...         ...                      ...   \n",
       "10122     solteiro     $40K - $60K        blue                       40   \n",
       "10123   divorciado     $40K - $60K        blue                       25   \n",
       "10124       casado  menos que $40K        blue                       36   \n",
       "10125           na     $40K - $60K        blue                       36   \n",
       "10126       casado  menos que $40K      silver                       25   \n",
       "\n",
       "       qtd_produtos  iteracoes_12m  meses_inativo_12m limite_credito  \\\n",
       "0                 5              3                  1      12.691,51   \n",
       "1                 6              2                  1       8.256,96   \n",
       "2                 4              0                  1       3.418,56   \n",
       "3                 3              1                  4       3.313,03   \n",
       "4                 5              0                  1       4.716,22   \n",
       "...             ...            ...                ...            ...   \n",
       "10122             3              3                  2       4.003,91   \n",
       "10123             4              3                  2       4.277,04   \n",
       "10124             5              4                  3       5.409,16   \n",
       "10125             4              3                  3       5.281,84   \n",
       "10126             6              4                  2      10.388,80   \n",
       "\n",
       "      valor_transacoes_12m  qtd_transacoes_12m  \n",
       "0                 1.144,90                  42  \n",
       "1                 1.291,45                  33  \n",
       "2                 1.887,72                  20  \n",
       "3                 1.171,56                  20  \n",
       "4                   816,08                  28  \n",
       "...                    ...                 ...  \n",
       "10122            15.476,26                 117  \n",
       "10123             8.764,88                  69  \n",
       "10124            10.291,78                  60  \n",
       "10125             8.395,62                  62  \n",
       "10126            10.294,96                  61  \n",
       "\n",
       "[10127 rows x 16 columns]"
      ]
     },
     "execution_count": 87,
     "metadata": {},
     "output_type": "execute_result"
    }
   ],
   "source": [
    "## Início : Rodar o dataframe em uma variável com nosso arquivo em formato CSV;\n",
    "\n",
    "df = pd.read_csv('./Arquivo.csv')\n",
    "df"
   ]
  },
  {
   "cell_type": "markdown",
   "id": "1ad6cbf9-425a-4aa9-89eb-ad8cc09e8158",
   "metadata": {},
   "source": [
    "## Análise dos dados com Pandas"
   ]
  },
  {
   "cell_type": "code",
   "execution_count": 88,
   "id": "d55a8e08-a161-4001-a748-c650d9367daa",
   "metadata": {},
   "outputs": [
    {
     "name": "stdout",
     "output_type": "stream",
     "text": [
      "<class 'pandas.core.frame.DataFrame'>\n",
      "RangeIndex: 10127 entries, 0 to 10126\n",
      "Data columns (total 16 columns):\n",
      " #   Column                   Non-Null Count  Dtype \n",
      "---  ------                   --------------  ----- \n",
      " 0   id                       10127 non-null  int64 \n",
      " 1   default                  10127 non-null  int64 \n",
      " 2   idade                    10127 non-null  int64 \n",
      " 3   sexo                     10127 non-null  object\n",
      " 4   dependentes              10127 non-null  int64 \n",
      " 5   escolaridade             10127 non-null  object\n",
      " 6   estado_civil             10127 non-null  object\n",
      " 7   salario_anual            10127 non-null  object\n",
      " 8   tipo_cartao              10127 non-null  object\n",
      " 9   meses_de_relacionamento  10127 non-null  int64 \n",
      " 10  qtd_produtos             10127 non-null  int64 \n",
      " 11  iteracoes_12m            10127 non-null  int64 \n",
      " 12  meses_inativo_12m        10127 non-null  int64 \n",
      " 13  limite_credito           10127 non-null  object\n",
      " 14  valor_transacoes_12m     10127 non-null  object\n",
      " 15  qtd_transacoes_12m       10127 non-null  int64 \n",
      "dtypes: int64(9), object(7)\n",
      "memory usage: 1.2+ MB\n"
     ]
    }
   ],
   "source": [
    "## Verificando os tipos de dados nas colunas:.\n",
    "\n",
    "df.info()"
   ]
  },
  {
   "cell_type": "code",
   "execution_count": 89,
   "id": "950d4c52-1661-4b5d-9cf7-76a6693a7aaa",
   "metadata": {},
   "outputs": [
    {
     "name": "stdout",
     "output_type": "stream",
     "text": [
      "id                           int64\n",
      "default                      int64\n",
      "idade                        int64\n",
      "sexo                        object\n",
      "dependentes                  int64\n",
      "escolaridade                object\n",
      "estado_civil                object\n",
      "salario_anual               object\n",
      "tipo_cartao                 object\n",
      "meses_de_relacionamento      int64\n",
      "qtd_produtos                 int64\n",
      "iteracoes_12m                int64\n",
      "meses_inativo_12m            int64\n",
      "limite_credito             float64\n",
      "valor_transacoes_12m       float64\n",
      "qtd_transacoes_12m           int64\n",
      "dtype: object\n"
     ]
    }
   ],
   "source": [
    "# Removendo pontos dos valores e substituindo vírgulas por pontos decimais\n",
    "df['limite_credito'] = df['limite_credito'].str.replace('.', '').str.replace(',', '.').astype(float)\n",
    "df['valor_transacoes_12m'] = df['valor_transacoes_12m'].str.replace('.', '').str.replace(',', '.').astype(float)\n",
    "\n",
    "# Verificando o tipo dos dados após a conversão\n",
    "print(df.dtypes)"
   ]
  },
  {
   "cell_type": "code",
   "execution_count": 21,
   "id": "a38e0b9d-ec8f-4809-9a6a-a454d0f4077e",
   "metadata": {},
   "outputs": [
    {
     "data": {
      "text/plain": [
       "id                         0\n",
       "default                    0\n",
       "idade                      0\n",
       "sexo                       0\n",
       "dependentes                0\n",
       "escolaridade               0\n",
       "estado_civil               0\n",
       "salario_anual              0\n",
       "tipo_cartao                0\n",
       "meses_de_relacionamento    0\n",
       "qtd_produtos               0\n",
       "iteracoes_12m              0\n",
       "meses_inativo_12m          0\n",
       "limite_credito             0\n",
       "valor_transacoes_12m       0\n",
       "qtd_transacoes_12m         0\n",
       "dtype: int64"
      ]
     },
     "execution_count": 21,
     "metadata": {},
     "output_type": "execute_result"
    }
   ],
   "source": [
    "## Verificando se existe valores nulos ou dados faltantes no dataframe\n",
    "\n",
    "df.isna().sum()"
   ]
  },
  {
   "cell_type": "markdown",
   "id": "04c82028-e6a1-496a-b8e6-902a6031b92f",
   "metadata": {},
   "source": [
    "##### 1) Criando uma nova coluna, de nome 'Status' tendo como base os valores da coluna salário_anual, em seguida, farei uma relação desses dados com a coluna de idade dos clientes."
   ]
  },
  {
   "cell_type": "code",
   "execution_count": 90,
   "id": "acffb438-ba64-452b-8ab5-47d82e24e0c1",
   "metadata": {},
   "outputs": [
    {
     "data": {
      "text/plain": [
       "salario_anual\n",
       "menos que $40K    3561\n",
       "$40K - $60K       1790\n",
       "$80K - $120K      1535\n",
       "$60K - $80K       1402\n",
       "na                1112\n",
       "$120K +            727\n",
       "Name: count, dtype: int64"
      ]
     },
     "execution_count": 90,
     "metadata": {},
     "output_type": "execute_result"
    }
   ],
   "source": [
    "## Verificando também os dados contidos na coluna salário_anual\n",
    "\n",
    "df['salario_anual'].value_counts()"
   ]
  },
  {
   "cell_type": "code",
   "execution_count": 91,
   "id": "edfadf28-4fcf-446b-bfa6-423696d0a1aa",
   "metadata": {},
   "outputs": [
    {
     "data": {
      "text/plain": [
       "Status\n",
       "Baixa renda              3561\n",
       "Renda média              3192\n",
       "Renda alta               2262\n",
       "Renda não regristrada    1112\n",
       "Name: count, dtype: int64"
      ]
     },
     "execution_count": 91,
     "metadata": {},
     "output_type": "execute_result"
    }
   ],
   "source": [
    "## Criando uma nova coluna de nome status no df com base nos dados relacionais;\n",
    "\n",
    "def status_soc (x):\n",
    "    if x == 'menos que $40K':\n",
    "        return 'Baixa renda'\n",
    "    elif x == 'na':\n",
    "        return 'Renda não regristrada'\n",
    "    elif x == '$40K - $60K' or x == '$60K - $80K':\n",
    "        return 'Renda média'\n",
    "    else:\n",
    "        return 'Renda alta'\n",
    "\n",
    "df['Status'] = df['salario_anual'].apply(status_soc)\n",
    "df['Status'].value_counts()\n",
    "\n",
    "        "
   ]
  },
  {
   "cell_type": "code",
   "execution_count": 92,
   "id": "6dda12ea-f809-4d54-8197-3033a0247652",
   "metadata": {},
   "outputs": [
    {
     "data": {
      "text/html": [
       "<div>\n",
       "<style scoped>\n",
       "    .dataframe tbody tr th:only-of-type {\n",
       "        vertical-align: middle;\n",
       "    }\n",
       "\n",
       "    .dataframe tbody tr th {\n",
       "        vertical-align: top;\n",
       "    }\n",
       "\n",
       "    .dataframe thead th {\n",
       "        text-align: right;\n",
       "    }\n",
       "</style>\n",
       "<table border=\"1\" class=\"dataframe\">\n",
       "  <thead>\n",
       "    <tr style=\"text-align: right;\">\n",
       "      <th></th>\n",
       "      <th>Status</th>\n",
       "      <th>idade</th>\n",
       "      <th>count</th>\n",
       "    </tr>\n",
       "  </thead>\n",
       "  <tbody>\n",
       "    <tr>\n",
       "      <th>0</th>\n",
       "      <td>Baixa renda</td>\n",
       "      <td>44</td>\n",
       "      <td>180</td>\n",
       "    </tr>\n",
       "    <tr>\n",
       "      <th>1</th>\n",
       "      <td>Baixa renda</td>\n",
       "      <td>45</td>\n",
       "      <td>175</td>\n",
       "    </tr>\n",
       "    <tr>\n",
       "      <th>2</th>\n",
       "      <td>Baixa renda</td>\n",
       "      <td>49</td>\n",
       "      <td>169</td>\n",
       "    </tr>\n",
       "    <tr>\n",
       "      <th>3</th>\n",
       "      <td>Baixa renda</td>\n",
       "      <td>43</td>\n",
       "      <td>168</td>\n",
       "    </tr>\n",
       "    <tr>\n",
       "      <th>81</th>\n",
       "      <td>Renda média</td>\n",
       "      <td>45</td>\n",
       "      <td>167</td>\n",
       "    </tr>\n",
       "    <tr>\n",
       "      <th>...</th>\n",
       "      <td>...</td>\n",
       "      <td>...</td>\n",
       "      <td>...</td>\n",
       "    </tr>\n",
       "    <tr>\n",
       "      <th>42</th>\n",
       "      <td>Baixa renda</td>\n",
       "      <td>67</td>\n",
       "      <td>1</td>\n",
       "    </tr>\n",
       "    <tr>\n",
       "      <th>80</th>\n",
       "      <td>Renda alta</td>\n",
       "      <td>26</td>\n",
       "      <td>1</td>\n",
       "    </tr>\n",
       "    <tr>\n",
       "      <th>40</th>\n",
       "      <td>Baixa renda</td>\n",
       "      <td>70</td>\n",
       "      <td>1</td>\n",
       "    </tr>\n",
       "    <tr>\n",
       "      <th>41</th>\n",
       "      <td>Baixa renda</td>\n",
       "      <td>68</td>\n",
       "      <td>1</td>\n",
       "    </tr>\n",
       "    <tr>\n",
       "      <th>165</th>\n",
       "      <td>Renda não regristrada</td>\n",
       "      <td>68</td>\n",
       "      <td>1</td>\n",
       "    </tr>\n",
       "  </tbody>\n",
       "</table>\n",
       "<p>166 rows × 3 columns</p>\n",
       "</div>"
      ],
      "text/plain": [
       "                    Status  idade  count\n",
       "0              Baixa renda     44    180\n",
       "1              Baixa renda     45    175\n",
       "2              Baixa renda     49    169\n",
       "3              Baixa renda     43    168\n",
       "81             Renda média     45    167\n",
       "..                     ...    ...    ...\n",
       "42             Baixa renda     67      1\n",
       "80              Renda alta     26      1\n",
       "40             Baixa renda     70      1\n",
       "41             Baixa renda     68      1\n",
       "165  Renda não regristrada     68      1\n",
       "\n",
       "[166 rows x 3 columns]"
      ]
     },
     "execution_count": 92,
     "metadata": {},
     "output_type": "execute_result"
    }
   ],
   "source": [
    "## Gerando uma relação entre a tabela de idade dos clientes e seu nível de renda;\n",
    "\n",
    "df_renda_clientes = df.groupby('Status')['idade'].value_counts().reset_index().sort_values(by = 'count', ascending = False)\n",
    "df_renda_clientes"
   ]
  },
  {
   "cell_type": "markdown",
   "id": "3fcc4a43-eb99-4085-b109-316c1847335c",
   "metadata": {},
   "source": [
    "- Insight inicial\n",
    ": Notou-se que pessoas de idade entre 40-49 anos são de grande maioria de baixa renda e estão mais presentes no dataframe."
   ]
  },
  {
   "cell_type": "markdown",
   "id": "5ff56fe2-9206-4383-9591-5f865c2be079",
   "metadata": {},
   "source": [
    "##### 2) Analisando as variáveis categórias no dataframe, realizando conexões entre elas, e por fim gerando insights sobre os resultados."
   ]
  },
  {
   "cell_type": "code",
   "execution_count": 93,
   "id": "e1b986c1-589f-4dda-95f3-784734e42669",
   "metadata": {},
   "outputs": [
    {
     "data": {
      "text/html": [
       "<div>\n",
       "<style scoped>\n",
       "    .dataframe tbody tr th:only-of-type {\n",
       "        vertical-align: middle;\n",
       "    }\n",
       "\n",
       "    .dataframe tbody tr th {\n",
       "        vertical-align: top;\n",
       "    }\n",
       "\n",
       "    .dataframe thead th {\n",
       "        text-align: right;\n",
       "    }\n",
       "</style>\n",
       "<table border=\"1\" class=\"dataframe\">\n",
       "  <thead>\n",
       "    <tr style=\"text-align: right;\">\n",
       "      <th>escolaridade</th>\n",
       "      <th>doutorado</th>\n",
       "      <th>ensino medio</th>\n",
       "      <th>graduacao</th>\n",
       "      <th>mestrado</th>\n",
       "      <th>na</th>\n",
       "      <th>sem educacao formal</th>\n",
       "    </tr>\n",
       "    <tr>\n",
       "      <th>sexo</th>\n",
       "      <th></th>\n",
       "      <th></th>\n",
       "      <th></th>\n",
       "      <th></th>\n",
       "      <th></th>\n",
       "      <th></th>\n",
       "    </tr>\n",
       "  </thead>\n",
       "  <tbody>\n",
       "    <tr>\n",
       "      <th>F</th>\n",
       "      <td>520</td>\n",
       "      <td>1028</td>\n",
       "      <td>532</td>\n",
       "      <td>1670</td>\n",
       "      <td>812</td>\n",
       "      <td>796</td>\n",
       "    </tr>\n",
       "    <tr>\n",
       "      <th>M</th>\n",
       "      <td>447</td>\n",
       "      <td>985</td>\n",
       "      <td>481</td>\n",
       "      <td>1458</td>\n",
       "      <td>707</td>\n",
       "      <td>691</td>\n",
       "    </tr>\n",
       "  </tbody>\n",
       "</table>\n",
       "</div>"
      ],
      "text/plain": [
       "escolaridade  doutorado  ensino medio  graduacao  mestrado   na  \\\n",
       "sexo                                                              \n",
       "F                   520          1028        532      1670  812   \n",
       "M                   447           985        481      1458  707   \n",
       "\n",
       "escolaridade  sem educacao formal  \n",
       "sexo                               \n",
       "F                             796  \n",
       "M                             691  "
      ]
     },
     "execution_count": 93,
     "metadata": {},
     "output_type": "execute_result"
    }
   ],
   "source": [
    "## Verificando qual o grau de escolaridade dos homens e das mulheres;\n",
    "\n",
    "tabela_pivo = df.pivot_table(index='sexo', columns='escolaridade', aggfunc='size')\n",
    "tabela_pivo"
   ]
  },
  {
   "cell_type": "markdown",
   "id": "145bde31-7ce1-48e4-bc97-e050f6bbd1c4",
   "metadata": {},
   "source": [
    "##### 3) Analisando o status social dos clientes com mais de 2 dependentes"
   ]
  },
  {
   "cell_type": "code",
   "execution_count": 94,
   "id": "5a3fc590-ee86-497e-9bcc-1913d6d1187e",
   "metadata": {},
   "outputs": [
    {
     "data": {
      "text/html": [
       "<div>\n",
       "<style scoped>\n",
       "    .dataframe tbody tr th:only-of-type {\n",
       "        vertical-align: middle;\n",
       "    }\n",
       "\n",
       "    .dataframe tbody tr th {\n",
       "        vertical-align: top;\n",
       "    }\n",
       "\n",
       "    .dataframe thead th {\n",
       "        text-align: right;\n",
       "    }\n",
       "</style>\n",
       "<table border=\"1\" class=\"dataframe\">\n",
       "  <thead>\n",
       "    <tr style=\"text-align: right;\">\n",
       "      <th></th>\n",
       "      <th></th>\n",
       "      <th>count</th>\n",
       "    </tr>\n",
       "    <tr>\n",
       "      <th>dependentes</th>\n",
       "      <th>Status</th>\n",
       "      <th></th>\n",
       "    </tr>\n",
       "  </thead>\n",
       "  <tbody>\n",
       "    <tr>\n",
       "      <th rowspan=\"4\" valign=\"top\">3</th>\n",
       "      <th>Baixa renda</th>\n",
       "      <td>896</td>\n",
       "    </tr>\n",
       "    <tr>\n",
       "      <th>Renda média</th>\n",
       "      <td>872</td>\n",
       "    </tr>\n",
       "    <tr>\n",
       "      <th>Renda alta</th>\n",
       "      <td>674</td>\n",
       "    </tr>\n",
       "    <tr>\n",
       "      <th>Renda não regristrada</th>\n",
       "      <td>290</td>\n",
       "    </tr>\n",
       "    <tr>\n",
       "      <th rowspan=\"4\" valign=\"top\">4</th>\n",
       "      <th>Baixa renda</th>\n",
       "      <td>535</td>\n",
       "    </tr>\n",
       "    <tr>\n",
       "      <th>Renda média</th>\n",
       "      <td>491</td>\n",
       "    </tr>\n",
       "    <tr>\n",
       "      <th>Renda alta</th>\n",
       "      <td>374</td>\n",
       "    </tr>\n",
       "    <tr>\n",
       "      <th>Renda não regristrada</th>\n",
       "      <td>174</td>\n",
       "    </tr>\n",
       "    <tr>\n",
       "      <th rowspan=\"4\" valign=\"top\">5</th>\n",
       "      <th>Renda média</th>\n",
       "      <td>149</td>\n",
       "    </tr>\n",
       "    <tr>\n",
       "      <th>Baixa renda</th>\n",
       "      <td>148</td>\n",
       "    </tr>\n",
       "    <tr>\n",
       "      <th>Renda alta</th>\n",
       "      <td>87</td>\n",
       "    </tr>\n",
       "    <tr>\n",
       "      <th>Renda não regristrada</th>\n",
       "      <td>40</td>\n",
       "    </tr>\n",
       "  </tbody>\n",
       "</table>\n",
       "</div>"
      ],
      "text/plain": [
       "                                   count\n",
       "dependentes Status                      \n",
       "3           Baixa renda              896\n",
       "            Renda média              872\n",
       "            Renda alta               674\n",
       "            Renda não regristrada    290\n",
       "4           Baixa renda              535\n",
       "            Renda média              491\n",
       "            Renda alta               374\n",
       "            Renda não regristrada    174\n",
       "5           Renda média              149\n",
       "            Baixa renda              148\n",
       "            Renda alta                87\n",
       "            Renda não regristrada     40"
      ]
     },
     "execution_count": 94,
     "metadata": {},
     "output_type": "execute_result"
    }
   ],
   "source": [
    "## Isolando a quantidade de clientes com mais de 2 dependentes em uma variável;\n",
    "max_dependentes = df[df['dependentes'] > 2]\n",
    "\n",
    "## gerando resultado com a tabela\n",
    "max_dependentes.groupby('dependentes')['Status'].value_counts().to_frame()"
   ]
  },
  {
   "cell_type": "markdown",
   "id": "18a67306-508f-4d6d-9930-d980654f9d0b",
   "metadata": {},
   "source": [
    "- Correlação entre dependentes e status financeiro: Clientes com mais dependentes tendem a estar mais concentrados na categoria de \"Baixa renda\" e menos na categoria de \"Renda alta\".\n",
    "\n",
    "- Indicação de condições socioeconômicas: A distribuição dos status financeiros em relação ao número de dependentes sugere as condições econômicas enfrentadas por diferentes grupos de clientes, especialmente famílias maiores.\n",
    "\n",
    "- Potencial para segmentação de mercado: Os dados indicam uma oportunidade para segmentar o mercado com base no número de dependentes e no status financeiro, permitindo estratégias de marketing e produtos mais direcionados.\n",
    "\n",
    "- Oportunidades de marketing e comunicação: Compreender essa distribuição pode ajudar na criação de campanhas de marketing e comunicação mais eficazes, adaptadas às necessidades específicas de clientes com diferentes números de dependentes e status financeiro."
   ]
  },
  {
   "cell_type": "markdown",
   "id": "1cd3aed5-23de-466c-bfc9-01f1ec5fa1fe",
   "metadata": {},
   "source": [
    "## Consulta e exploração utilizando SQL"
   ]
  },
  {
   "cell_type": "code",
   "execution_count": 72,
   "id": "206b3e6d-6f72-4890-b13c-5e389a85bd8e",
   "metadata": {},
   "outputs": [
    {
     "name": "stdout",
     "output_type": "stream",
     "text": [
      " * sqlite:///Arquivo.db\n",
      "Done.\n"
     ]
    },
    {
     "data": {
      "text/html": [
       "<table>\n",
       "    <thead>\n",
       "        <tr>\n",
       "            <th>id</th>\n",
       "            <th>default</th>\n",
       "            <th>idade</th>\n",
       "            <th>sexo</th>\n",
       "            <th>dependentes</th>\n",
       "            <th>escolaridade</th>\n",
       "            <th>estado_civil</th>\n",
       "            <th>salario_anual</th>\n",
       "            <th>tipo_cartao</th>\n",
       "            <th>meses_de_relacionamento</th>\n",
       "            <th>qtd_produtos</th>\n",
       "            <th>iteracoes_12m</th>\n",
       "            <th>meses_inativo_12m</th>\n",
       "            <th>limite_credito</th>\n",
       "            <th>valor_transacoes_12m</th>\n",
       "            <th>qtd_transacoes_12m</th>\n",
       "        </tr>\n",
       "    </thead>\n",
       "    <tbody>\n",
       "        <tr>\n",
       "            <td>768805383</td>\n",
       "            <td>0</td>\n",
       "            <td>45</td>\n",
       "            <td>M</td>\n",
       "            <td>3</td>\n",
       "            <td>ensino medio</td>\n",
       "            <td>casado</td>\n",
       "            <td>$60K - $80K</td>\n",
       "            <td>blue</td>\n",
       "            <td>39</td>\n",
       "            <td>5</td>\n",
       "            <td>3</td>\n",
       "            <td>1</td>\n",
       "            <td>12.691,51</td>\n",
       "            <td>1.144,90</td>\n",
       "            <td>42</td>\n",
       "        </tr>\n",
       "        <tr>\n",
       "            <td>818770008</td>\n",
       "            <td>0</td>\n",
       "            <td>49</td>\n",
       "            <td>F</td>\n",
       "            <td>5</td>\n",
       "            <td>mestrado</td>\n",
       "            <td>solteiro</td>\n",
       "            <td>menos que $40K</td>\n",
       "            <td>blue</td>\n",
       "            <td>44</td>\n",
       "            <td>6</td>\n",
       "            <td>2</td>\n",
       "            <td>1</td>\n",
       "            <td>8.256,96</td>\n",
       "            <td>1.291,45</td>\n",
       "            <td>33</td>\n",
       "        </tr>\n",
       "        <tr>\n",
       "            <td>713982108</td>\n",
       "            <td>0</td>\n",
       "            <td>51</td>\n",
       "            <td>M</td>\n",
       "            <td>3</td>\n",
       "            <td>mestrado</td>\n",
       "            <td>casado</td>\n",
       "            <td>$80K - $120K</td>\n",
       "            <td>blue</td>\n",
       "            <td>36</td>\n",
       "            <td>4</td>\n",
       "            <td>0</td>\n",
       "            <td>1</td>\n",
       "            <td>3.418,56</td>\n",
       "            <td>1.887,72</td>\n",
       "            <td>20</td>\n",
       "        </tr>\n",
       "        <tr>\n",
       "            <td>769911858</td>\n",
       "            <td>0</td>\n",
       "            <td>40</td>\n",
       "            <td>F</td>\n",
       "            <td>4</td>\n",
       "            <td>ensino medio</td>\n",
       "            <td>na</td>\n",
       "            <td>menos que $40K</td>\n",
       "            <td>blue</td>\n",
       "            <td>34</td>\n",
       "            <td>3</td>\n",
       "            <td>1</td>\n",
       "            <td>4</td>\n",
       "            <td>3.313,03</td>\n",
       "            <td>1.171,56</td>\n",
       "            <td>20</td>\n",
       "        </tr>\n",
       "        <tr>\n",
       "            <td>709106358</td>\n",
       "            <td>0</td>\n",
       "            <td>40</td>\n",
       "            <td>M</td>\n",
       "            <td>3</td>\n",
       "            <td>sem educacao formal</td>\n",
       "            <td>casado</td>\n",
       "            <td>$60K - $80K</td>\n",
       "            <td>blue</td>\n",
       "            <td>21</td>\n",
       "            <td>5</td>\n",
       "            <td>0</td>\n",
       "            <td>1</td>\n",
       "            <td>4.716,22</td>\n",
       "            <td>816,08</td>\n",
       "            <td>28</td>\n",
       "        </tr>\n",
       "    </tbody>\n",
       "</table>"
      ],
      "text/plain": [
       "[(768805383, 0, 45, 'M', 3, 'ensino medio', 'casado', '$60K - $80K', 'blue', 39, 5, 3, 1, '12.691,51', '1.144,90', 42),\n",
       " (818770008, 0, 49, 'F', 5, 'mestrado', 'solteiro', 'menos que $40K', 'blue', 44, 6, 2, 1, '8.256,96', '1.291,45', 33),\n",
       " (713982108, 0, 51, 'M', 3, 'mestrado', 'casado', '$80K - $120K', 'blue', 36, 4, 0, 1, '3.418,56', '1.887,72', 20),\n",
       " (769911858, 0, 40, 'F', 4, 'ensino medio', 'na', 'menos que $40K', 'blue', 34, 3, 1, 4, '3.313,03', '1.171,56', 20),\n",
       " (709106358, 0, 40, 'M', 3, 'sem educacao formal', 'casado', '$60K - $80K', 'blue', 21, 5, 0, 1, '4.716,22', '816,08', 28)]"
      ]
     },
     "execution_count": 72,
     "metadata": {},
     "output_type": "execute_result"
    }
   ],
   "source": [
    "## Utilizando o SQL para gerar algumas consultas;\n",
    "\n",
    "from sqlalchemy import create_engine\n",
    "\n",
    "# Conectando ao banco de dados SQLite\n",
    "engine = create_engine('sqlite:///Arquivo.db')\n",
    "\n",
    "# Salvando DataFrame como tabela SQLite\n",
    "df.to_sql('Arquivo', engine, if_exists='replace', index=False)\n",
    "\n",
    "# Verificando se a tabela foi criada corretamente\n",
    "%sql sqlite:///Arquivo.db\n",
    "%sql SELECT * FROM Arquivo LIMIT 5;"
   ]
  },
  {
   "cell_type": "code",
   "execution_count": 73,
   "id": "9149c011-7bca-409e-a800-d9a3c1319c7a",
   "metadata": {},
   "outputs": [
    {
     "name": "stdout",
     "output_type": "stream",
     "text": [
      "Done.\n"
     ]
    },
    {
     "data": {
      "text/html": [
       "<table>\n",
       "    <thead>\n",
       "        <tr>\n",
       "            <th>escolaridade</th>\n",
       "        </tr>\n",
       "    </thead>\n",
       "    <tbody>\n",
       "        <tr>\n",
       "            <td>ensino medio</td>\n",
       "        </tr>\n",
       "        <tr>\n",
       "            <td>mestrado</td>\n",
       "        </tr>\n",
       "        <tr>\n",
       "            <td>sem educacao formal</td>\n",
       "        </tr>\n",
       "        <tr>\n",
       "            <td>na</td>\n",
       "        </tr>\n",
       "        <tr>\n",
       "            <td>graduacao</td>\n",
       "        </tr>\n",
       "        <tr>\n",
       "            <td>doutorado</td>\n",
       "        </tr>\n",
       "    </tbody>\n",
       "</table>"
      ],
      "text/plain": [
       "[('ensino medio',),\n",
       " ('mestrado',),\n",
       " ('sem educacao formal',),\n",
       " ('na',),\n",
       " ('graduacao',),\n",
       " ('doutorado',)]"
      ]
     },
     "execution_count": 73,
     "metadata": {},
     "output_type": "execute_result"
    }
   ],
   "source": [
    "%%sql sqlite:///Arquivo.db\n",
    "\n",
    "SELECT DISTINCT escolaridade FROM Arquivo;"
   ]
  },
  {
   "cell_type": "code",
   "execution_count": 74,
   "id": "77695b5e-a1bd-40e2-9f47-06bca9749479",
   "metadata": {},
   "outputs": [
    {
     "name": "stdout",
     "output_type": "stream",
     "text": [
      "Done.\n"
     ]
    },
    {
     "data": {
      "text/html": [
       "<table>\n",
       "    <thead>\n",
       "        <tr>\n",
       "            <th>limite_credito</th>\n",
       "            <th>escolaridade</th>\n",
       "            <th>tipo_cartao</th>\n",
       "            <th>sexo</th>\n",
       "        </tr>\n",
       "    </thead>\n",
       "    <tbody>\n",
       "        <tr>\n",
       "            <td>9.995,38</td>\n",
       "            <td>mestrado</td>\n",
       "            <td>blue</td>\n",
       "            <td>F</td>\n",
       "        </tr>\n",
       "        <tr>\n",
       "            <td>9.989,82</td>\n",
       "            <td>ensino medio</td>\n",
       "            <td>blue</td>\n",
       "            <td>F</td>\n",
       "        </tr>\n",
       "        <tr>\n",
       "            <td>9.981,79</td>\n",
       "            <td>graduacao</td>\n",
       "            <td>blue</td>\n",
       "            <td>M</td>\n",
       "        </tr>\n",
       "        <tr>\n",
       "            <td>9.974,74</td>\n",
       "            <td>mestrado</td>\n",
       "            <td>blue</td>\n",
       "            <td>M</td>\n",
       "        </tr>\n",
       "        <tr>\n",
       "            <td>9.966,98</td>\n",
       "            <td>doutorado</td>\n",
       "            <td>blue</td>\n",
       "            <td>F</td>\n",
       "        </tr>\n",
       "        <tr>\n",
       "            <td>9.964,79</td>\n",
       "            <td>ensino medio</td>\n",
       "            <td>blue</td>\n",
       "            <td>M</td>\n",
       "        </tr>\n",
       "        <tr>\n",
       "            <td>9.959,50</td>\n",
       "            <td>doutorado</td>\n",
       "            <td>blue</td>\n",
       "            <td>M</td>\n",
       "        </tr>\n",
       "        <tr>\n",
       "            <td>9.959,14</td>\n",
       "            <td>sem educacao formal</td>\n",
       "            <td>blue</td>\n",
       "            <td>M</td>\n",
       "        </tr>\n",
       "        <tr>\n",
       "            <td>9.909,58</td>\n",
       "            <td>sem educacao formal</td>\n",
       "            <td>blue</td>\n",
       "            <td>F</td>\n",
       "        </tr>\n",
       "        <tr>\n",
       "            <td>9.881,38</td>\n",
       "            <td>graduacao</td>\n",
       "            <td>blue</td>\n",
       "            <td>F</td>\n",
       "        </tr>\n",
       "    </tbody>\n",
       "</table>"
      ],
      "text/plain": [
       "[('9.995,38', 'mestrado', 'blue', 'F'),\n",
       " ('9.989,82', 'ensino medio', 'blue', 'F'),\n",
       " ('9.981,79', 'graduacao', 'blue', 'M'),\n",
       " ('9.974,74', 'mestrado', 'blue', 'M'),\n",
       " ('9.966,98', 'doutorado', 'blue', 'F'),\n",
       " ('9.964,79', 'ensino medio', 'blue', 'M'),\n",
       " ('9.959,50', 'doutorado', 'blue', 'M'),\n",
       " ('9.959,14', 'sem educacao formal', 'blue', 'M'),\n",
       " ('9.909,58', 'sem educacao formal', 'blue', 'F'),\n",
       " ('9.881,38', 'graduacao', 'blue', 'F')]"
      ]
     },
     "execution_count": 74,
     "metadata": {},
     "output_type": "execute_result"
    }
   ],
   "source": [
    "%%sql sqlite:///Arquivo.db\n",
    "\n",
    "select max(limite_credito) as limite_credito, escolaridade, tipo_cartao, sexo from Arquivo\n",
    "where escolaridade != 'na' and tipo_cartao != 'na'\n",
    "group by escolaridade, tipo_cartao, sexo\n",
    "order by limite_credito desc\n",
    "limit 10\n"
   ]
  },
  {
   "cell_type": "markdown",
   "id": "3c197742-43c2-458b-bc89-fe55588a8e6f",
   "metadata": {},
   "source": [
    "Com base nos dados apresentados, podemos observar que clientes com formação em \"mestrado\" ou \"doutorado\" tendem a ter os limites de crédito mais altos, independentemente do sexo. Além disso, parece não haver variação significativa nos limites de crédito com base no tipo de cartão entre os clientes listados, já que todos possuem um cartão \"blue\". Essas observações sugerem que a escolaridade pode ser um fator importante na determinação dos limites de crédito, enquanto o tipo de cartão pode ter menos impacto nessa variável."
   ]
  },
  {
   "cell_type": "code",
   "execution_count": 79,
   "id": "a1f73cfa-438f-4967-aaa4-ac3c46841aab",
   "metadata": {},
   "outputs": [
    {
     "name": "stdout",
     "output_type": "stream",
     "text": [
      "Done.\n"
     ]
    },
    {
     "data": {
      "text/html": [
       "<table>\n",
       "    <thead>\n",
       "        <tr>\n",
       "            <th>qts_produtos</th>\n",
       "            <th>media_valor_transacoes</th>\n",
       "            <th>avg(limite_credito)</th>\n",
       "        </tr>\n",
       "    </thead>\n",
       "    <tbody>\n",
       "        <tr>\n",
       "            <td>3.778541953232462</td>\n",
       "            <td>22.949829436038513</td>\n",
       "            <td>19.71732599724887</td>\n",
       "        </tr>\n",
       "        <tr>\n",
       "            <td>3.8338088445078458</td>\n",
       "            <td>22.341507845934377</td>\n",
       "            <td>10.758770328102692</td>\n",
       "        </tr>\n",
       "        <tr>\n",
       "            <td>3.7809278350515463</td>\n",
       "            <td>21.86876932989689</td>\n",
       "            <td>6.309720360824748</td>\n",
       "        </tr>\n",
       "        <tr>\n",
       "            <td>3.8169381107491858</td>\n",
       "            <td>19.668415635179176</td>\n",
       "            <td>15.80988859934848</td>\n",
       "        </tr>\n",
       "        <tr>\n",
       "            <td>3.898916967509025</td>\n",
       "            <td>19.155072202166075</td>\n",
       "            <td>4.579357400722025</td>\n",
       "        </tr>\n",
       "        <tr>\n",
       "            <td>3.8169914738124238</td>\n",
       "            <td>14.991218635809991</td>\n",
       "            <td>3.6847993300852715</td>\n",
       "        </tr>\n",
       "        <tr>\n",
       "            <td>3.785009861932939</td>\n",
       "            <td>12.118846153846137</td>\n",
       "            <td>4.813692307692317</td>\n",
       "        </tr>\n",
       "    </tbody>\n",
       "</table>"
      ],
      "text/plain": [
       "[(3.778541953232462, 22.949829436038513, 19.71732599724887),\n",
       " (3.8338088445078458, 22.341507845934377, 10.758770328102692),\n",
       " (3.7809278350515463, 21.86876932989689, 6.309720360824748),\n",
       " (3.8169381107491858, 19.668415635179176, 15.80988859934848),\n",
       " (3.898916967509025, 19.155072202166075, 4.579357400722025),\n",
       " (3.8169914738124238, 14.991218635809991, 3.6847993300852715),\n",
       " (3.785009861932939, 12.118846153846137, 4.813692307692317)]"
      ]
     },
     "execution_count": 79,
     "metadata": {},
     "output_type": "execute_result"
    }
   ],
   "source": [
    "%%sql sqlite:///Arquivo.db\n",
    "\n",
    "select avg(qtd_produtos) as qts_produtos, avg(valor_transacoes_12m) as media_valor_transacoes, avg(limite_credito)\n",
    "from Arquivo\n",
    "where salario_anual != 'na'\n",
    "group by sexo, salario_anual\n",
    "order by avg(valor_transacoes_12m) desc\n"
   ]
  },
  {
   "cell_type": "markdown",
   "id": "f14b0163-dac8-4ab0-93a2-6f51f91472d6",
   "metadata": {},
   "source": [
    "- A quantidade média de produtos adquiridos por transação varia de aproximadamente 3.78 a 3.90.\n",
    "- O valor médio das transações varia de aproximadamente $12.12 a $22.95.\n",
    "- O limite de crédito médio varia de aproximadamente $3.68 a $19.72."
   ]
  },
  {
   "cell_type": "code",
   "execution_count": 83,
   "id": "8c15b39b-ea03-4a56-98ed-172436adad97",
   "metadata": {},
   "outputs": [
    {
     "name": "stdout",
     "output_type": "stream",
     "text": [
      "Done.\n"
     ]
    },
    {
     "data": {
      "text/html": [
       "<table>\n",
       "    <thead>\n",
       "        <tr>\n",
       "            <th>sexo</th>\n",
       "            <th>total_registros</th>\n",
       "            <th>media_valor_gasto</th>\n",
       "        </tr>\n",
       "    </thead>\n",
       "    <tbody>\n",
       "        <tr>\n",
       "            <td>F</td>\n",
       "            <td>5358</td>\n",
       "            <td>13.960068682344147</td>\n",
       "        </tr>\n",
       "        <tr>\n",
       "            <td>M</td>\n",
       "            <td>4769</td>\n",
       "            <td>21.105725938351757</td>\n",
       "        </tr>\n",
       "    </tbody>\n",
       "</table>"
      ],
      "text/plain": [
       "[('F', 5358, 13.960068682344147), ('M', 4769, 21.105725938351757)]"
      ]
     },
     "execution_count": 83,
     "metadata": {},
     "output_type": "execute_result"
    }
   ],
   "source": [
    "%%sql sqlite:///Arquivo.db\n",
    "\n",
    "SELECT sexo, \n",
    "       COUNT(*) AS total_registros,\n",
    "       AVG(valor_transacoes_12m) AS media_valor_gasto\n",
    "FROM Arquivo\n",
    "GROUP BY sexo;\n"
   ]
  },
  {
   "cell_type": "markdown",
   "id": "aaa1afc0-93b3-4507-be50-74f815bc2845",
   "metadata": {},
   "source": [
    "- Existem mais registros associados ao sexo feminino (5358) do que ao sexo masculino (4769).\n",
    "- A média de valor gasto para o sexo masculino (21.11) é maior do que a média de valor gasto para o sexo feminino (13.96).\n",
    "- Essa diferença na média de valor gasto entre os sexos pode indicar padrões de gastos diferentes entre homens e mulheres."
   ]
  },
  {
   "cell_type": "markdown",
   "id": "579ce2c6-87c4-4c82-a033-802acdd51e40",
   "metadata": {},
   "source": [
    "### Visualização dos dados"
   ]
  },
  {
   "cell_type": "markdown",
   "id": "c3d746ca-ebd5-4c61-b80c-fb7b32e68b4f",
   "metadata": {},
   "source": [
    "##### 1) Gerando uma visualização com a relação do tipo de cartão e limite de crédito dos clientes"
   ]
  },
  {
   "cell_type": "code",
   "execution_count": 105,
   "id": "677167df-0198-4ab7-befe-3717821f8d5c",
   "metadata": {},
   "outputs": [
    {
     "data": {
      "text/plain": [
       "<matplotlib.legend.Legend at 0x2ac292fa490>"
      ]
     },
     "execution_count": 105,
     "metadata": {},
     "output_type": "execute_result"
    },
    {
     "data": {
      "image/png": "[encoded data removed]",
      "text/plain": [
       "<Figure size 1000x600 with 1 Axes>"
      ]
     },
     "metadata": {},
     "output_type": "display_data"
    }
   ],
   "source": [
    "sns.set(style='whitegrid')\n",
    "\n",
    "plt.figure(figsize=(10, 6))\n",
    "sns.barplot(data=df, x='tipo_cartao', y='limite_credito', hue='tipo_cartao', palette='muted', linewidth=1.0, dodge=False)\n",
    "plt.xlabel('Tipo de Cartão')\n",
    "plt.ylabel('Limite de Crédito')\n",
    "plt.title('Limite de Crédito por Tipo de Cartão')\n",
    "plt.legend(title='Tipo de Cartão', bbox_to_anchor=(0,1), loc='upper left')"
   ]
  },
  {
   "cell_type": "markdown",
   "id": "8235f85f-dd23-44ad-acc3-e19c5ae85ea7",
   "metadata": {},
   "source": [
    "##### 2) Relação dos valores de transação e Status social dos clientes"
   ]
  },
  {
   "cell_type": "code",
   "execution_count": 137,
   "id": "38549795-37ca-42be-a7a7-e226c2a5adbc",
   "metadata": {},
   "outputs": [
    {
     "data": {
      "text/plain": [
       "Text(0, 0.5, 'Valor de Transação')"
      ]
     },
     "execution_count": 137,
     "metadata": {},
     "output_type": "execute_result"
    },
    {
     "data": {
      "image/png": "[encoded data removed]",
      "text/plain": [
       "<Figure size 1000x600 with 1 Axes>"
      ]
     },
     "metadata": {},
     "output_type": "display_data"
    }
   ],
   "source": [
    "plt.figure(figsize=(10, 6))\n",
    "sns.violinplot(data=df, x='Status', y='valor_transacoes_12m', palette='muted')\n",
    "plt.title('Violin Plot dos Valores de Transação 12m por Status')\n",
    "plt.ylabel('Valor de Transação')\n"
   ]
  },
  {
   "cell_type": "markdown",
   "id": "bb3041d3-9525-4da1-a404-bdd6be0033f5",
   "metadata": {},
   "source": [
    "- Se a curva do violino está alta em uma determinada posição ao longo do eixo y, significa que há muitos dados com valores próximos a esse ponto. Quanto mais alta a curva em um determinado ponto, maior é a densidade de dados nessa região, indicando uma maior frequência de ocorrência de valores próximos a esse valor específico.\n"
   ]
  },
  {
   "cell_type": "markdown",
   "id": "712fc8c9-0119-4394-8d70-6179e297c50e",
   "metadata": {},
   "source": [
    "##### 3) Gerando um gráfico em Pizza para visualizar os dados de escolaridade dos clientes"
   ]
  },
  {
   "cell_type": "code",
   "execution_count": 147,
   "id": "72cdcfae-dcde-48f2-9dc9-e15e5181c835",
   "metadata": {},
   "outputs": [
    {
     "data": {
      "text/plain": [
       "(-1.0999980554317301, 1.09999763607476, -1.0999971076774757, 1.099998164673918)"
      ]
     },
     "execution_count": 147,
     "metadata": {},
     "output_type": "execute_result"
    },
    {
     "data": {
      "image/png": "[encoded data removed]",
      "text/plain": [
       "<Figure size 800x600 with 1 Axes>"
      ]
     },
     "metadata": {},
     "output_type": "display_data"
    }
   ],
   "source": [
    "plt.figure(figsize=(8, 6))\n",
    "plt.pie(contagem_escolaridade, labels=contagem_escolaridade.index, autopct='%1.1f%%', startangle=140)\n",
    "plt.axis('equal')"
   ]
  },
  {
   "cell_type": "markdown",
   "id": "5b1925ec-3aea-4ff5-9f9d-2827a4b589c7",
   "metadata": {},
   "source": [
    "### Conclusão:."
   ]
  },
  {
   "cell_type": "markdown",
   "id": "9dac79f1-a36b-4d62-b694-ec4cf1ab2283",
   "metadata": {},
   "source": [
    "##### Com base nos dados extraídos do dataframe até aqui, podemos tirar os seguintes insights:\n",
    "\n",
    "- Distribuição de escolaridade: A maioria dos clientes possui formação em nível médio ou superior, com uma proporção relativamente menor de clientes com educação sem formação formal.\n",
    "\n",
    "- Distribuição de gênero: A distribuição de gênero dos clientes parece estar equilibrada, com uma proporção quase igual de clientes do sexo masculino e feminino.\n",
    "\n",
    "- Distribuição de transações por tipo de cartão: A maioria das transações parece ser realizada com o cartão \"blue\", embora haja uma presença significativa de outros tipos de cartão.\n",
    "\n",
    "- Distribuição de limites de crédito: Os limites de crédito variam bastante entre os clientes, com uma distribuição aparentemente normal, mas com algumas observações atípicas.\n",
    "\n",
    "- Relação entre a escolaridade e o limite de crédito: Pode haver uma relação entre o nível de escolaridade e o limite de crédito, com clientes com níveis mais altos de escolaridade tendo limites de crédito potencialmente maiores.\n",
    "\n",
    "- Distribuição de idade: A idade dos clientes parece variar, com uma distribuição que pode ser analisada para entender melhor o perfil demográfico dos clientes."
   ]
  }
 ],
 "metadata": {
  "kernelspec": {
   "display_name": "Python 3 (ipykernel)",
   "language": "python",
   "name": "python3"
  },
  "language_info": {
   "codemirror_mode": {
    "name": "ipython",
    "version": 3
   },
   "file_extension": ".py",
   "mimetype": "text/x-python",
   "name": "python",
   "nbconvert_exporter": "python",
   "pygments_lexer": "ipython3",
   "version": "3.11.5"
  }
 },
 "nbformat": 4,
 "nbformat_minor": 5
}
